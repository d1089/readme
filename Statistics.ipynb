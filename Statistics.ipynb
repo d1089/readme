{
  "nbformat": 4,
  "nbformat_minor": 0,
  "metadata": {
    "colab": {
      "name": "Statistics.ipynb",
      "provenance": [],
      "collapsed_sections": [],
      "authorship_tag": "ABX9TyMCnhGTezFUiuraSLvHpVM8",
      "include_colab_link": true
    },
    "kernelspec": {
      "name": "python3",
      "display_name": "Python 3"
    },
    "language_info": {
      "name": "python"
    }
  },
  "cells": [
    {
      "cell_type": "markdown",
      "metadata": {
        "id": "view-in-github",
        "colab_type": "text"
      },
      "source": [
        "<a href=\"https://colab.research.google.com/github/d1089/d1089/blob/main/Statistics.ipynb\" target=\"_parent\"><img src=\"https://colab.research.google.com/assets/colab-badge.svg\" alt=\"Open In Colab\"/></a>"
      ]
    },
    {
      "cell_type": "markdown",
      "source": [
        "\n",
        "\n",
        "*   Descriptive Stats\n",
        "    1. Measure of Central Tendency\n",
        "    2. Measure of Dispersion\n",
        "\n",
        "*   Summarizing the data\n",
        "{\n",
        "  Histogram, PDF, CDF, Probability, Permutation, Mean, Media, Mode, Variance, Standard\n",
        "}\n",
        "\n",
        "*  Distributions (Organizing and Summarizing the data)\n",
        "  1.   Gaussian\n",
        "  2.   LogNormal\n",
        "  3.   Binomial\n",
        "  4.   Bernoulli \n",
        "  5.   Pareto (Power Law)\n",
        "  6.   Standard Normal Distribution\n",
        "  7.   Transformation and Standardization\n",
        "  8.   Q-Q Plot\n",
        "\n",
        "*   Inferencial Stats (use data to make conclusions)\n",
        "  1.   Z Test\n",
        "  2.   t Test\n",
        "  3.   ANOVA (F Test)\n",
        "  4.   Chi Square\n",
        "  5.   Hypothesis Testing {P Values}\n",
        "  6.   Confidence Interval\n",
        "\n"
      ],
      "metadata": {
        "id": "jj1-4AfXqQDL"
      }
    },
    {
      "cell_type": "markdown",
      "source": [
        "What is Statistics?\n",
        "*  Science of collecting, organizing and analyzing the data\n",
        "\n",
        "Data - measurable\n",
        "\n",
        "* Sampling\n",
        "  1. Simple Random Sampling\n",
        "  2. Stratified Sampling"
      ],
      "metadata": {
        "id": "j9LqDFdOvtGA"
      }
    },
    {
      "cell_type": "code",
      "source": [
        "from google.colab import drive\n",
        "drive.mount('/content/drive')"
      ],
      "metadata": {
        "id": "HRRqRjSiMR9v"
      },
      "execution_count": null,
      "outputs": []
    },
    {
      "cell_type": "code",
      "source": [
        ""
      ],
      "metadata": {
        "id": "glHGuQslwNJe"
      },
      "execution_count": null,
      "outputs": []
    }
  ]
}